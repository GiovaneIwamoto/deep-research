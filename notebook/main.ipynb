{
 "cells": [
  {
   "cell_type": "code",
   "execution_count": 1,
   "metadata": {},
   "outputs": [
    {
     "name": "stdout",
     "output_type": "stream",
     "text": [
      "\n",
      "\u001b[1m[\u001b[0m\u001b[34;49mnotice\u001b[0m\u001b[1;39;49m]\u001b[0m\u001b[39;49m A new release of pip is available: \u001b[0m\u001b[31;49m25.0\u001b[0m\u001b[39;49m -> \u001b[0m\u001b[32;49m25.1.1\u001b[0m\n",
      "\u001b[1m[\u001b[0m\u001b[34;49mnotice\u001b[0m\u001b[1;39;49m]\u001b[0m\u001b[39;49m To update, run: \u001b[0m\u001b[32;49mpip install --upgrade pip\u001b[0m\n",
      "Note: you may need to restart the kernel to use updated packages.\n"
     ]
    }
   ],
   "source": [
    "%pip install --quiet langchain langgraph tavily-python"
   ]
  },
  {
   "cell_type": "code",
   "execution_count": 2,
   "metadata": {},
   "outputs": [],
   "source": [
    "user_input = \"Write a report on the impact of climate change on polar bears.\""
   ]
  },
  {
   "cell_type": "code",
   "execution_count": 3,
   "metadata": {},
   "outputs": [],
   "source": [
    "from pydantic import BaseModel\n",
    "from typing import List\n",
    "import operator\n",
    "from typing_extensions import Annotated\n",
    "\n",
    "class QueryResult(BaseModel):\n",
    "    title: str = None\n",
    "    url: str = None\n",
    "    resume: str = None\n",
    "    \n",
    "\n",
    "class ReportState(BaseModel):\n",
    "    user_input: str = None\n",
    "    final_response: str = None\n",
    "    queries: List[str] = []\n",
    "    queries_results: Annotated[List[QueryResult], operator.add]"
   ]
  },
  {
   "cell_type": "code",
   "execution_count": 4,
   "metadata": {},
   "outputs": [],
   "source": [
    "import os\n",
    "import dotenv\n",
    "\n",
    "from langchain_openai import ChatOpenAI\n",
    "from langgraph.graph import START, END, StateGraph\n",
    "from langgraph.types import Send\n",
    "\n",
    "dotenv.load_dotenv()\n",
    "\n",
    "OPENAI_API_KEY = os.getenv(\"OPENAI_API_KEY\")"
   ]
  },
  {
   "cell_type": "code",
   "execution_count": 5,
   "metadata": {},
   "outputs": [],
   "source": [
    "llm = ChatOpenAI(model=\"gpt-4.1\")\n",
    "\n",
    "reasoning = {\n",
    "    \"effort\": \"medium\",  # 'low', 'medium', or 'high'\n",
    "    \"summary\": \"auto\",  # 'detailed', 'auto', or None\n",
    "}\n",
    "\n",
    "reasoning_llm = ChatOpenAI(\n",
    "    model=\"o4-mini\", reasoning=reasoning\n",
    ")"
   ]
  },
  {
   "cell_type": "code",
   "execution_count": 6,
   "metadata": {},
   "outputs": [],
   "source": [
    "agent_prompt = \"\"\"\n",
    "You are a research planner agent\n",
    "You are  working on a project that aims to answer user's question\n",
    "using resources found online\n",
    "\n",
    "Your asnwer should be technical, detailed and well structured using up to date information\n",
    "Cite facts, data and specific informations.\n",
    "\n",
    "Here is the user input\n",
    "<USER_INPUT>\n",
    "{user_input}\n",
    "</USER_INPUT>\n",
    "\"\"\""
   ]
  },
  {
   "cell_type": "code",
   "execution_count": 7,
   "metadata": {},
   "outputs": [],
   "source": [
    "build_queries = agent_prompt + \"\"\"\n",
    "Your first objective is to build a list of queries that\n",
    "will be used to find answers to the user's question.\n",
    "\n",
    "Answer with anything between 3 and 5 queries.\n",
    "\"\"\""
   ]
  },
  {
   "cell_type": "code",
   "execution_count": 8,
   "metadata": {},
   "outputs": [],
   "source": [
    "resume_search = agent_prompt + \"\"\"\n",
    "Your objective here is to analyze the web search results and make a synthesis of it.\n",
    "Emphasize the most relevant information based on user's question.\n",
    "\n",
    "After your work, another agent will use the synthesis to build a final response to the user,\n",
    "so make sure the synthesis contains only useful information.\n",
    "\n",
    "Be concise and clear, do not preamble.\n",
    "\n",
    "Here is the web search results:\n",
    "<SEARCH_RESULTS>\n",
    "{search_results}\n",
    "</SEARCH_RESULTS>\n",
    "\"\"\""
   ]
  },
  {
   "cell_type": "code",
   "execution_count": 9,
   "metadata": {},
   "outputs": [],
   "source": [
    "build_final_response = agent_prompt + \"\"\"\n",
    "Your objective here is to develop a final response to the user using the reports made during\n",
    "the web search, with their syntesis.\n",
    "\n",
    "The response should contain something between 3 and 5 paragraphs.\n",
    "\n",
    "Here is the web search results:\n",
    "<SEARCH_RESULTS>\n",
    "{search_results}\n",
    "</SEARCH_RESULTS>\n",
    "\n",
    "You must add reference citations with the number of the citation (e.g. [1], [2], etc.) at the end of each paragraph.\n",
    "and the articles you used in each paragraph of your answer.\n",
    "\"\"\""
   ]
  },
  {
   "cell_type": "code",
   "execution_count": 10,
   "metadata": {},
   "outputs": [],
   "source": [
    "def build_first_queries(state: ReportState):\n",
    "    class QueryList(BaseModel):\n",
    "        queries: List[str]\n",
    "    \n",
    "    user_input = state.user_input\n",
    "    prompt = build_queries.format(user_input=user_input)\n",
    "    query_llm = llm.with_structured_output(QueryList)\n",
    "\n",
    "    result = query_llm.invoke(prompt)\n",
    "    \n",
    "    print(\"Generated queries from Query Builder: \\n {result}\\n\", result)\n",
    "\n",
    "    return{\"queries\": result.queries} #Formatted queries\n",
    "    "
   ]
  },
  {
   "cell_type": "code",
   "execution_count": 11,
   "metadata": {},
   "outputs": [],
   "source": [
    "def spawn_researchers(state: ReportState):\n",
    "    return [Send(\"single_search\", query) for query in state.queries]"
   ]
  },
  {
   "cell_type": "code",
   "execution_count": 12,
   "metadata": {},
   "outputs": [],
   "source": [
    "from tavily import TavilyClient\n",
    "\n",
    "def single_search(query: str):\n",
    "    tavily_client = TavilyClient()\n",
    "    results = tavily_client.search(query, \n",
    "                                   max_results=1,\n",
    "                                   include_raw_content=False)\n",
    "    \n",
    "    url = results[\"results\"][0][\"url\"]\n",
    "    url_extraction = tavily_client.extract(url)\n",
    "\n",
    "    if len(url_extraction[\"results\"]) > 0:\n",
    "        raw_content = url_extraction[\"results\"][0][\"raw_content\"]\n",
    "        prompt = resume_search.format(user_input=user_input, search_results=raw_content)\n",
    "        llm_result = llm.invoke(prompt)\n",
    "\n",
    "        query_results = QueryResult(title=results[\"results\"][0][\"title\"],\n",
    "                                   url=url,\n",
    "                                   resume=llm_result.content)\n",
    "        \n",
    "        print(\"\\n\\nAgent for query:\", query)\n",
    "        print(\"Result:\", query_results)\n",
    "        \n",
    "        return{\"query_result\": query_results}"
   ]
  },
  {
   "cell_type": "code",
   "execution_count": 13,
   "metadata": {},
   "outputs": [],
   "source": [
    "def final_writer(state: ReportState):\n",
    "    search_results = \"\"\n",
    "    reference = \"\"\n",
    "    for i, result in enumerate(state.queries_results):\n",
    "        search_results += f\"[{i+1}]\\n\\n\"\n",
    "        search_results += f\"Title: {result.title}\\n\"\n",
    "        search_results += f\"URL: {result.url}\\n\"\n",
    "        search_results += f\"Content: {result.resume}\\n\\n\"\n",
    "\n",
    "        reference += f\"[{i+1}] - {result.title} ({result.url})\\n\"\n",
    "    \n",
    "    prompt = build_final_response.format(user_input=state.user_input, search_results=search_results)\n",
    "    llm_result = llm.invoke(prompt)\n",
    "\n",
    "    final_response = llm_result + \"\\n\\nReferences:\\n\" + reference\n",
    "\n",
    "    return {\"final_response\": final_response}"
   ]
  },
  {
   "cell_type": "code",
   "execution_count": 14,
   "metadata": {},
   "outputs": [],
   "source": [
    "builder = StateGraph(ReportState)\n",
    "builder.add_node(\"build_first_queries\", build_first_queries)\n",
    "builder.add_node(\"single_search\", single_search)\n",
    "builder.add_node(\"final_writer\", final_writer)\n",
    "\n",
    "builder.add_edge(START, \"build_first_queries\")\n",
    "builder.add_conditional_edges(\"build_first_queries\", spawn_researchers, [\"single_search\"])\n",
    "builder.add_edge(\"single_search\", \"final_writer\")\n",
    "builder.add_edge(\"final_writer\", END)\n",
    "\n",
    "graph = builder.compile()"
   ]
  },
  {
   "cell_type": "code",
   "execution_count": 15,
   "metadata": {},
   "outputs": [
    {
     "name": "stdout",
     "output_type": "stream",
     "text": [
      "Generated queries from Query Builder: \n",
      " {result}\n",
      " queries=['Recent studies on the effects of climate change on polar bear populations', 'How does sea ice loss affect polar bear hunting and survival?', 'Long-term trends in polar bear population numbers across the Arctic', 'Impact of climate change on polar bear reproduction and cub survival rates', 'Adaptation mechanisms of polar bears to changing Arctic environments']\n",
      "\n",
      "\n",
      "Agent for query: Impact of climate change on polar bear reproduction and cub survival rates\n",
      "-------------\n",
      "Result: title=\"Climate change threatens bears' long-term survival - WWF Arctic\" url='https://www.arcticwwf.org/the-circle/stories/climate-change-threatens-bears-long-term-survival/' resume='**Impact of Climate Change on Polar Bears – Synthesis**\\n\\n1. **Dependence on Sea Ice and Arctic Warming**\\n   - Polar bears (Ursus maritimus) rely on sea ice as a platform for hunting seals, their primary food source.\\n   - The Arctic is warming faster than any other region, resulting in rapid sea-ice decline, now at unprecedented levels.\\n\\n2. **Regional Impacts and Subpopulation Variability**\\n   - Sea-ice patterns differ across the Arctic; thus, polar bear subpopulations face region-specific challenges.\\n   - In the southern Beaufort Sea, significant loss of summer sea ice has forced bears to either follow ice to less-productive, deeper waters or to come ashore, both effectively reducing food access.\\n   - In seasonal ice zones, such as western Hudson Bay (Canada), earlier ice melt and later refreeze mean longer fasting periods for bears stranded on land. Since 1979, ice-free periods have lengthened by nearly nine days per decade, accompanied by declines in body condition, cub survival, and population size.\\n\\n3. **Population Trends and Projections**\\n   - Of 19 subpopulations monitored, at least 3 are in long-term decline, with insufficient data for others.\\n   - A 2020 Nature Climate Change study projected that under current warming rates, 12 of 13 subpopulations assessed would reach critical fasting limits before 2100, leading to severe declines in reproduction and survival, and potential population collapse.\\n   - Under moderate emissions mitigation (~2.4°C warming by 2100), 9 of 13 subpopulations could be at risk of reproductive failure by 2080.\\n\\n4. **Mechanisms of Impact**\\n   - Reduced ice shortens access to prime hunting areas, limiting the bears’ ability to replenish energy reserves.\\n   - Longer fasting periods degrade physical condition and lower young bear survival.\\n   - Some subpopulations with access to thicker, multi-year ice or naturally productive areas may be temporarily buffered, but the long-term loss of ice is an existential risk.\\n\\n5. **Additional Threats Amplified by Climate Change**\\n   - As apex predators, polar bears are sensitive to broader ecosystem shifts affecting prey species.\\n   - Increased human activity (shipping, oil/gas exploration) and new competitors or diseases moving north into a warming Arctic add to pressure.\\n   - Human-bear conflict is likely to increase as food-stressed bears spend more time on land.\\n\\n6. **Conclusion**\\n   - Rapid and ambitious mitigation of greenhouse gas emissions is essential for the long-term persistence of polar bears.\\n   - Without significant action, most subpopulations face drastic declines by the end of the century.\\n\\n**Key Sources:**\\n- WWF Arctic Programme (2025)\\n- Louise Archer, University of Toronto (WWF, 2022)\\n- Nature Climate Change, 2020 study on polar bear fasting thresholds and climate projections.'\n",
      "\n",
      "\n",
      "Agent for query: Long-term trends in polar bear population numbers across the Arctic\n",
      "-------------\n",
      "Result: title='Population, Distribution, and Trends - Polar Bear Range States' url='https://polarbearagreement.org/polar-bear-biology/population-distribution-and-trends' resume='**Impact of Climate Change on Polar Bears: Synthesis**\\n\\n**1. Population and Distribution**\\n- Polar bears (Ursus maritimus) are distributed across 19 circumpolar subpopulations, inhabiting a total land and marine area of approximately 23 million km² across the Arctic.\\n- As of 2015, the estimated global population was 22,000–31,000 individuals, but several subpopulations are data-deficient, complicating accurate trend assessment.\\n\\n**2. Habitat Dependency**\\n- Polar bears depend on sea ice as a platform for hunting their primary prey (primarily seals), breeding, and, in some cases, denning.\\n- They preferentially occupy productive waters over continental shelves, where sea ice is typically present for much of the year.\\n\\n**3. Impact of Climate Change**\\n- Climate change is the preeminent threat to polar bears, primarily through the reduction in the quantity and quality of sea ice habitat ([source](https://polarbearagreement.org/threats-to-polar-bears/climate-change)).\\n- Satellite observations and climate models indicate a significant decline in Arctic sea ice extent, thickness, and seasonal stability due to rising global temperatures.\\n- Decreasing sea ice forces bears to spend more time on land, leading to reduced access to prey, increased energetic costs, and negative impacts on body condition, reproduction rates, and survival, especially for cubs and subadults.\\n\\n**4. Subpopulation Trends and Vulnerability**\\n- The vulnerability of each subpopulation is influenced by the rate of local sea ice loss and other ecological factors.\\n- The International Union for Conservation of Nature (IUCN) has classified the polar bear as Vulnerable on its Red List of Threatened Species since 1982.\\n- Some subpopulations have documented declines correlated with substantial sea ice loss (e.g., Southern Beaufort Sea), while trends are less clear or data-deficient in others. The IUCN/SSC Polar Bear Specialist Group and national technical committees (e.g., Canada) conduct ongoing annual assessments for updates on trends ([IUCN PBSG statistics](https://www.iucn-pbsg.org/#home-statistics)).\\n\\n**5. Ecosystem and Secondary Threats**\\n- Diminished sea ice also increases bear-human conflicts, exposure to contaminants, disease, and pressure from industrial activities (e.g., shipping, oil and gas development), all of which can be exacerbated by climate-driven habitat changes.\\n\\n**6. Conservation and Management**\\n- The five polar bear Range States (Canada, Greenland, Norway, Russia, and the United States) have cooperated since 1973 under the Agreement on the Conservation of Polar Bears.\\n- Multi-lateral initiatives such as the Circumpolar Action Plan focus on monitoring, research, and mitigation strategies to address climate change impacts and support adaptive management actions, incorporating Traditional Ecological Knowledge (TEK) where applicable.\\n\\n**References**\\n- [Polar Bear Biology & Habitat Needs](https://polarbearagreement.org/polar-bear-biology/)\\n- [Threats: Climate Change](https://polarbearagreement.org/threats-to-polar-bears/climate-change)\\n- IUCN Red List: Polar Bear Status\\n- Circumpolar Action Plan ([source](https://polarbearagreement.org/circumpolar-action-plan/))\\n\\n**Key Point:**  \\nPolar bears are highly vulnerable to ongoing and projected sea ice declines caused by climate change, which has direct and indirect impacts on their survival, reproduction, and population sustainability throughout the Arctic.'\n",
      "\n",
      "\n",
      "Agent for query: Recent studies on the effects of climate change on polar bear populations\n",
      "-------------\n",
      "Result: title='Polar bears and climate change: What does the science say?' url='https://interactive.carbonbrief.org/polar-bears-climate-change-what-does-science-say/index.html' resume='**Impact of Climate Change on Polar Bears: Technical Synthesis**\\n\\n**Arctic Sea Ice Decline**\\n- Polar bears (Ursus maritimus) rely on sea ice for hunting, breeding, traveling, and resting. The primary prey is ringed seals, hunted at sea ice edges.\\n- Arctic warming is occurring at nearly **four times the global average**, leading to extensive sea ice loss. Arctic sea ice extent has declined **each month since 1979**, with significant reductions in both area and duration of ice coverage ([IPCC SROCC 2019](https://www.ipcc.ch/srocc/chapter/chapter-3-2/)).\\n- All 19 recognized polar bear subpopulations, categorized into four ecoregions (archipelago, convergent, divergent, seasonal), are experiencing some degree of sea ice loss, though impacts vary regionally ([IUCN PBSG 2021](https://www.iucn-pbsg.org/wp-content/uploads/2021/11/July-2021-Status-Report-Web.pdf); Regehr et al., 2016).\\n- Some subpopulations, such as those in the Southern Beaufort Sea, Baffin Bay, and Western Hudson Bay, have experienced **direct population declines** linked to reduced sea ice coverage.\\n\\n**Hunting, Fasting, and Physiological Stress**\\n- The sea ice loss shortens the annual hunting season (mainly late spring and early summer), leading to longer fasting periods as bears are forced ashore when ice retreats, sometimes exceeding their physiological limits ([Molnar et al., 2020](https://www.nature.com/articles/s41558-020-0818-9)).\\n- Extended fasting triggers a decline in body condition, lower average adult weight, reduced reproductive rates, and **increased cub mortality**. Cubs are particularly sensitive, with survival thresholds reached at ~117 fasting days.\\n- High greenhouse gas emissions scenarios (e.g., RCP8.5) project that by 2100, **all but a few high-Arctic subpopulations** could experience reproduction/survival rates too low for persistence ([Molnar et al., 2020](https://www.nature.com/articles/s41558-020-0818-9)).\\n\\n**Behavioral Adaptations and Secondary Impacts**\\n- Polar bears show behavioral plasticity: increased terrestrial foraging (bird eggs, carrion, vegetation) and longer swims. However, terrestrial food does not substitute for energy-rich seal blubber and cannot sustain most bears ([Rode et al., 2015](https://onlinelibrary.wiley.com/doi/abs/10.1111/gcb.15573)).\\n- Sea ice fragmentation is increasing energetic costs, isolating subpopulations, and reducing denning habitat (European Arctic denning habitat down to one-third of 1980s levels ([Derocher et al., 2022](https://link.springer.com/article/10.1007/s00300-022-03016-5))).\\n- Increased time ashore elevates human-bear conflict rates and exposure to pollutants, diseases, and contaminants, which may become exacerbated in a warmer Arctic.\\n\\n**Population Status and Projections**\\n- The IUCN Red List (2015) classifies polar bears as \"vulnerable,\" with a **70% chance** of >1/3 population decline within three generations (~35–40 years); risk of >50% drop is low (7%) and risk of 80% collapse is negligible ([IUCN 2015](https://www.iucnredlist.org/species/22823/14871490)).\\n- The current estimated global population is ~26,000 (range: 22,000–31,000). Of subpopulations with data, three are declining; none have grown in the last two generations.\\n- Extinction risk beyond 35 years remains uncertain, but continued sea ice loss is expected to cross multiple tipping points for subpopulations if trends persist.\\n\\n**Policy and Conservation Response**\\n- The primary threat to polar bears remains climate-induced habitat degradation. The IUCN and circumpolar governments highlight that **reducing greenhouse gas emissions and stabilizing sea ice** is critical for long-term species survival.\\n- The Circumpolar Action Plan (2015–2025) involves range countries collaborating to monitor threats and coordinate conservation, with climate change identified as the dominant challenge ([CAP review 2020](https://polarbearagreement.org/index.php/circumpolar-action-plan/2-year-implementation-plans/cap-2020-2023-implementation-plan)).\\n\\n**Key References**\\n- Carbon Brief, \"Polar bears and climate change: What does the science say?\" (2022)\\n- Molnar, P.K. et al., \"Fasting season length sets temporal limits for global polar bear persistence,\" Nature Climate Change (2020)\\n- IUCN Polar Bear Specialist Group, Status Report (2021)\\n- IPCC Special Report on the Ocean and Cryosphere in a Changing Climate (2019)\\n\\n**Conclusion**\\nThe scientific consensus is that **ongoing Arctic warming and sea ice decline driven by climate change is fundamentally threatening polar bear survival**, with population declines projected to accelerate under high-emission futures. Adaptations and region-specific variability offer only short-term buffers; without significant emission reductions, polar bears will face major population declines and possible regional extirpations within this century.'\n",
      "\n",
      "\n",
      "Agent for query: How does sea ice loss affect polar bear hunting and survival?\n",
      "-------------\n",
      "Result: title='Polar bears and climate change: What does the science say?' url='https://interactive.carbonbrief.org/polar-bears-climate-change-what-does-science-say/index.html' resume='### Impact of Climate Change on Polar Bears: Synthesis\\n\\n**1. Dependency on Sea Ice and Arctic Warming**\\n- Polar bears (Ursus maritimus) are highly dependent on sea ice for hunting, mating, breeding, and resting. Sea ice is their primary platform for accessing prey such as ringed and bearded seals ([Carbon Brief, 2022](https://interactive.carbonbrief.org/polar-bears-climate-change-what-does-science-say/)).\\n- Arctic temperatures are rising approximately four times faster than the global average, leading to a significant decline in Arctic sea ice extent and volume since 1979 ([IPCC, 2019](https://www.ipcc.ch/srocc/chapter/chapter-3-2/)).\\n- All 19 identified polar bear subpopulations have experienced some degree of ice loss, with rates and patterns varying regionally but all trending downward.\\n\\n**2. Regional and Subpopulation Impacts**\\n- Four ecoregions (seasonal, divergent, convergent, archipelago) show different patterns of sea ice melt and seasonal accessibility, influencing how subpopulations are affected.\\n  - Seasonal regions: Entirely ice-free in summer, forcing bears to fast onshore.\\n  - Divergent regions: Year-round ice historically, but now significant retreat from shore.\\n  - Archipelago: Retains the most persistent ice, likely acting as a temporary long-term refuge ([IUCN, 2021](https://www.iucn-pbsg.org/wp-content/uploads/2021/11/July-2021-Status-Report-Web.pdf)).\\n\\n**3. Direct Biological Impacts**\\n- **Reduced Hunting Time**: Early ice retreat and late formation reduce the hunting window, forcing bears to fast longer and swim greater distances to find food.\\n- **Body Condition and Reproduction**: Prolonged fasting leads to decreased body condition and lower average weight among adults. Fewer cubs survive, and those that do are often smaller ([Molnar et al., Nature Climate Change 2020](https://www.nature.com/articles/s41558-020-0818-9)).\\n- **Thresholds**: Studies project that, under high emissions, most subpopulations will face “inevitable” reproductive and survival impacts for cubs and adults by 2100.\\n- **Denning and Birth Success**: Less snow and ice reduce available denning habitat by up to two-thirds in some regions, leading to smaller litters and den collapse risk.\\n\\n**4. Changes in Behavior and Diet**\\n- With sea ice loss, polar bears spend more time on land, leading to increased scavenging (e.g., reindeer, bird eggs, whale carcasses) and human-wildlife conflict.\\n- Encounters with humans are becoming more frequent, linked to increased presence at settlements and garbage dumps.\\n\\n**5. Subpopulation and Species Status**\\n- As of the latest IUCN assessment (2015), polar bears are classified as “vulnerable,” with a 70% chance that the global population will decline by >1/3 over the next three generations (~35 years) ([IUCN Red List](https://www.iucnredlist.org/species/22823/14871490)).\\n- Current global estimates: ~26,000 bears (95% confidence range: 22,000–31,000); three subpopulations are confirmed to be in decline; none show a definitive increase.\\n- Some regions (e.g., Kane Basin) experience temporary benefits from thinner ice increasing productivity, but these are expected to be short-lived as warming continues.\\n\\n**6. Broader Ecological and Health Impacts**\\n- Sea ice fragmentation reduces genetic exchange and increases subpopulation isolation.\\n- Warming is linked to higher rates of disease and contamination.\\n- Other pressures, such as hunting, industrial activity, and shipping, are less significant but compound the effects of climate change.\\n\\n**7. Conservation and Policy**\\n- The Circumpolar Action Plan (2015, US, Canada, Norway, Greenland, Russia) identifies climate change as the primary threat and prioritizes global greenhouse gas reduction to stabilize sea ice.\\n- Long-term polar bear survival depends fundamentally on stabilizing or restoring sea ice through emissions mitigation.\\n\\n**References**\\n- Carbon Brief Interactive: [Polar bears and climate change: What does the science say?](https://interactive.carbonbrief.org/polar-bears-climate-change-what-does-science-say/)\\n- IUCN Polar Bear Specialist Group: [2021 Status Report](https://www.iucn-pbsg.org/wp-content/uploads/2021/11/July-2021-Status-Report-Web.pdf)\\n- Molnar et al., 2020, Nature Climate Change: [Fasting thresholds and population impacts](https://www.nature.com/articles/s41558-020-0818-9)\\n- IPCC Special Report on the Ocean and Cryosphere (2019): [Sea ice and polar bears](https://www.ipcc.ch/srocc/chapter/chapter-3-2/)\\n- IUCN Red List assessment (2015): [Ursus maritimus](https://www.iucnredlist.org/species/22823/14871490)\\n\\n**Summary**\\nArctic warming has fundamentally reduced the extent and thickness of sea ice, disrupting all aspects of polar bear ecology, worsened reproductive outcomes, and forced increases in human-bear conflict. Without significant reductions in greenhouse gas emissions and resultant stabilization of Arctic sea ice, continued declines in polar bear populations are virtually certain.'\n"
     ]
    },
    {
     "data": {
      "text/plain": [
       "{'user_input': 'Write a report on the impact of climate change on polar bears.',\n",
       " 'final_response': ChatPromptTemplate(input_variables=[], input_types={}, partial_variables={}, messages=[AIMessage(content='The impact of climate change on polar bears (Ursus maritimus) has become a critical focus of Arctic ecology and conservation. As the Arctic warms at approximately three times the global average rate, sea ice, which is fundamental to polar bears’ survival, is declining both in extent and duration. Loss of this sea ice habitat impairs the bears’ ability to hunt for their primary prey, seals, leading to reduced body condition, lower reproductive rates, and increased cub mortality. Scientific studies have documented a direct correlation between sea ice loss and declining polar bear populations across several subpopulations, notably in the Southern Beaufort Sea and Western Hudson Bay regions. Changes in the timing of sea ice melt and formation are reducing the hunting season, forcing bears to fast longer on land with limited food resources [1][2].\\n\\nWith diminishing hunting opportunities, polar bears are increasingly forced to travel greater distances or remain on land for longer periods, resulting in increased energy expenditure and lower survival rates. This leads to observable reductions in adult body size and weight, which can adversely affect reproduction and cub survival. Some bears have been observed turning to alternative food sources such as bird eggs or human refuse, but these alternatives do not provide the high caloric value necessary to sustain healthy populations. Long-term research projects have shown that nutritional stress is a primary cause behind observed declines in reproductive success and survival, especially as ice-free seasons lengthen each decade [1][3].\\n\\nFuture projections, based on climate models and ongoing observations, suggest that if greenhouse gas emissions continue at current rates, polar bear populations will face severe declines. The International Union for Conservation of Nature (IUCN) currently lists polar bears as “Vulnerable” with potential for significant further population reductions by 2050 due to continued habitat loss. Conservation efforts are underway to mitigate these impacts, including policies to reduce greenhouse gas emissions and adaptive management strategies in polar bear range states. However, without significant intervention in global emissions and preservation of Arctic sea ice, the long-term prognosis for polar bear populations remains dire [2][4].\\n\\nReferences used:  \\n[1] Polar Bears International, “How climate change affects polar bears,” https://polarbearsinternational.org.  \\n[2] World Wildlife Fund, “Polar bears and climate change,” https://www.worldwildlife.org/species/polar-bear.  \\n[3] U.S. Geological Survey, “Polar Bear Research in Alaska,” https://www.usgs.gov.  \\n[4] IUCN Red List: Ursus maritimus, https://www.iucnredlist.org/species/22823/14871490.', additional_kwargs={'refusal': None}, response_metadata={'token_usage': {'completion_tokens': 528, 'prompt_tokens': 185, 'total_tokens': 713, 'completion_tokens_details': {'accepted_prediction_tokens': 0, 'audio_tokens': 0, 'reasoning_tokens': 0, 'rejected_prediction_tokens': 0}, 'prompt_tokens_details': {'audio_tokens': 0, 'cached_tokens': 0}}, 'model_name': 'gpt-4.1-2025-04-14', 'system_fingerprint': None, 'id': 'chatcmpl-Bu3GVhogTcQhqwLDL2GO2L8lDx7fr', 'service_tier': 'default', 'finish_reason': 'stop', 'logprobs': None}, id='run--21e14b57-1d8c-4988-bc28-477e502753ff-0', usage_metadata={'input_tokens': 185, 'output_tokens': 528, 'total_tokens': 713, 'input_token_details': {'audio': 0, 'cache_read': 0}, 'output_token_details': {'audio': 0, 'reasoning': 0}}), HumanMessagePromptTemplate(prompt=PromptTemplate(input_variables=[], input_types={}, partial_variables={}, template='\\n\\nReferences:\\n'), additional_kwargs={}), HumanMessagePromptTemplate(prompt=PromptTemplate(input_variables=[], input_types={}, partial_variables={}, template=''), additional_kwargs={})]),\n",
       " 'queries': ['Recent studies on the effects of climate change on polar bear populations',\n",
       "  'How does sea ice loss affect polar bear hunting and survival?',\n",
       "  'Long-term trends in polar bear population numbers across the Arctic',\n",
       "  'Impact of climate change on polar bear reproduction and cub survival rates',\n",
       "  'Adaptation mechanisms of polar bears to changing Arctic environments'],\n",
       " 'queries_results': []}"
      ]
     },
     "execution_count": 15,
     "metadata": {},
     "output_type": "execute_result"
    }
   ],
   "source": [
    "graph.invoke({\"user_input\": user_input})"
   ]
  }
 ],
 "metadata": {
  "kernelspec": {
   "display_name": "Python 3",
   "language": "python",
   "name": "python3"
  },
  "language_info": {
   "codemirror_mode": {
    "name": "ipython",
    "version": 3
   },
   "file_extension": ".py",
   "mimetype": "text/x-python",
   "name": "python",
   "nbconvert_exporter": "python",
   "pygments_lexer": "ipython3",
   "version": "3.12.0"
  }
 },
 "nbformat": 4,
 "nbformat_minor": 2
}
